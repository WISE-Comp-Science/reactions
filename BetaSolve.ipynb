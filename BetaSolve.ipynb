{
 "cells": [
  {
   "cell_type": "code",
   "execution_count": 3,
   "metadata": {
    "collapsed": true
   },
   "outputs": [],
   "source": [
    "%matplotlib inline\n",
    "\n",
    "import numpy as np\n",
    "import matplotlib.pyplot as plt"
   ]
  },
  {
   "cell_type": "code",
   "execution_count": 4,
   "metadata": {
    "collapsed": true
   },
   "outputs": [],
   "source": [
    "# Define coefficients of Sin(beta) polynomial\n",
    "def zeta_f(mc, mb):\n",
    "    return 1.0-mc/mb\n",
    "def xi_f(alpha):\n",
    "    return 2.0/np.tan(alpha)\n",
    "def chi_f(alpha, mc, ma):\n",
    "    return 1.0/(np.tan(alpha)**2) - (mc/ma)/(np.sin(alpha)**2) - 1.0"
   ]
  },
  {
   "cell_type": "code",
   "execution_count": 5,
   "metadata": {
    "collapsed": true
   },
   "outputs": [],
   "source": [
    "def polySin(sbeta, alpha, mc, mb, ma):\n",
    "    zeta = zeta_f(mc, mb)\n",
    "    xi = xi_f(alpha)\n",
    "    chi = chi_f(alpha, mc, ma)\n",
    "    return sbeta**2 * chi + sbeta * np.sqrt(1.0-sbeta**2) * xi + zeta"
   ]
  },
  {
   "cell_type": "code",
   "execution_count": 6,
   "metadata": {
    "collapsed": false
   },
   "outputs": [
    {
     "data": {
      "image/png": "[encoded data removed]",
      "text/plain": [
       "<matplotlib.figure.Figure at 0x7f09fa8a2438>"
      ]
     },
     "metadata": {},
     "output_type": "display_data"
    }
   ],
   "source": [
    "# Plot poly Sin over a range of alpha for some test values\n",
    "mc = 3.0\n",
    "mb = 2.0\n",
    "ma = 1.0\n",
    "alpha = np.pi/4.0\n",
    "sbetas = np.linspace(0, 1.0, num=1000)\n",
    "psbeta = polySin(sbetas, alpha, mc, mb, ma)\n",
    "fig = plt.figure()\n",
    "ax = fig.add_subplot(111) \n",
    "ax.plot(sbetas, psbeta)\n",
    "plt.show()"
   ]
  },
  {
   "cell_type": "code",
   "execution_count": 7,
   "metadata": {
    "collapsed": true
   },
   "outputs": [],
   "source": [
    "# Note there aren't any roots above.\n",
    "# Figure out what values of alpha are allowed by looking at the discriminant\n",
    "def discriminant(alpha, mc, mb, ma):\n",
    "    zeta = zeta_f(mc, mb)\n",
    "    xi = xi_f(alpha)\n",
    "    chi = chi_f(alpha, mc, ma)\n",
    "    return xi**2 - 4 * (chi + zeta) * zeta"
   ]
  },
  {
   "cell_type": "code",
   "execution_count": 32,
   "metadata": {
    "collapsed": false
   },
   "outputs": [
    {
     "name": "stdout",
     "output_type": "stream",
     "text": [
      "0.0\n"
     ]
    }
   ],
   "source": [
    "# Plot the discriminant over a range of alpha\n",
    "mc = 3.0\n",
    "mb = 2.0-1e-16\n",
    "ma = 1.0\n",
    "alphas = np.linspace(1e-12, np.pi*2.0, num=1000)\n",
    "discrs = []\n",
    "for alpha in alphas:\n",
    "    discrs.append(discriminant(alpha, mc, mb, ma))\n",
    "discrs = np.array(discrs)\n",
    "print(np.amax(discrs))\n",
    "#fig = plt.figure()\n",
    "#ax = fig.add_subplot(111) \n",
    "#ax.plot(alphas/np.pi, discrs)\n",
    "#plt.show()"
   ]
  },
  {
   "cell_type": "code",
   "execution_count": null,
   "metadata": {
    "collapsed": true
   },
   "outputs": [],
   "source": []
  }
 ],
 "metadata": {
  "kernelspec": {
   "display_name": "Python 3",
   "language": "python",
   "name": "python3"
  },
  "language_info": {
   "codemirror_mode": {
    "name": "ipython",
    "version": 3
   },
   "file_extension": ".py",
   "mimetype": "text/x-python",
   "name": "python",
   "nbconvert_exporter": "python",
   "pygments_lexer": "ipython3",
   "version": "3.5.1"
  }
 },
 "nbformat": 4,
 "nbformat_minor": 0
}
