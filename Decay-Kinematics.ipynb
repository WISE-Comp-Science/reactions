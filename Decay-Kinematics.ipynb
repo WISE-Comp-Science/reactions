{
 "cells": [
  {
   "cell_type": "code",
   "execution_count": 38,
   "metadata": {
    "collapsed": true
   },
   "outputs": [],
   "source": [
    "import numpy as np"
   ]
  },
  {
   "cell_type": "code",
   "execution_count": 39,
   "metadata": {
    "collapsed": true
   },
   "outputs": [],
   "source": [
    "def get_random_angle(hi):\n",
    "    # Return a random angle in the interval [0, hi)\n",
    "    return np.random.random() * hi"
   ]
  },
  {
   "cell_type": "code",
   "execution_count": 40,
   "metadata": {
    "collapsed": true
   },
   "outputs": [],
   "source": [
    "# Define coefficients of Sin(beta) polynomial\n",
    "def zeta_f(mc, mb):\n",
    "    return 1.0-mc/mb\n",
    "def xi_f(alpha):\n",
    "    return 2.0/np.tan(alpha)\n",
    "def chi_f(alpha, mc, ma):\n",
    "    return 1.0/(np.tan(alpha)**2) - (mc/ma)/(np.sin(alpha)**2) - 1.0"
   ]
  },
  {
   "cell_type": "code",
   "execution_count": 41,
   "metadata": {
    "collapsed": true
   },
   "outputs": [],
   "source": [
    "def get_beta(alpha, mc, mb, ma):\n",
    "    # Form root coefficients\n",
    "    zeta = zeta_f(mc, mb)\n",
    "    xi = xi_f(alpha)\n",
    "    chi = chi_f(alpha, mc, ma)\n",
    "    a = chi + zeta\n",
    "    c = 1\n",
    "    # plus and minus (p/m) for different square root signs\n",
    "    print('det: {}'.format(xi**2 - 4*zeta*a))\n",
    "    dp = (xi + np.sqrt(xi**2 - 4 * zeta * a))/(2 * a)\n",
    "    dm = (xi - np.sqrt(xi**2 - 4 * zeta * a))/(2 * a)\n",
    "    bp = zeta/dp\n",
    "    bm = zeta/dm\n",
    "    # Now the 8 roots\n",
    "    s1 = dp/np.sqrt(c**2 + dp**2)\n",
    "    s2 = -s1\n",
    "    s3 = dm/np.sqrt(c**2 + dm**2)\n",
    "    s4 = -s3\n",
    "    s5 = bp/np.sqrt(a**2 + bp**2)\n",
    "    s6 = -s5\n",
    "    s7 = bm/np.sqrt(a**2 + bm**2)\n",
    "    s8 = -s7\n",
    "    sval = np.array([s1, s2, s3, s4, s5, s6, s7, s8])\n",
    "    # And finally take the inverse sine\n",
    "    beta = np.arcsin(sval)\n",
    "    return beta"
   ]
  },
  {
   "cell_type": "code",
   "execution_count": 42,
   "metadata": {
    "collapsed": true
   },
   "outputs": [],
   "source": [
    "def get_unit_vectors(vec):\n",
    "    # Calculate and return the following unit vectors:\n",
    "    # 1 Parallel\n",
    "    # 2 Perpendicular\n",
    "    x_hat = np.array([1.0, 0.0, 0.0])\n",
    "    y_hat = np.array([0.0, 1.0, 0.0])\n",
    "    z_hat = np.array([0.0, 0.0, 1.0])\n",
    "    zeros = np.array([0.0, 0.0, 0.0])\n",
    "    u_par = vec/np.linalg.norm(vec)\n",
    "    print(vec)\n",
    "    print(u_par)\n",
    "    print(x_hat)\n",
    "    u_perp_1 = np.cross(u_par, x_hat)\n",
    "    if np.array_equal(u_perp_1, zeros):\n",
    "        u_perp_1 = np.cross(u_par, y_hat)\n",
    "    u_perp_2 = np.cross(u_par, u_perp_1)\n",
    "    return u_par, u_perp_1, u_perp_2"
   ]
  },
  {
   "cell_type": "code",
   "execution_count": 43,
   "metadata": {
    "collapsed": true
   },
   "outputs": [],
   "source": [
    "def get_pa_pb(alpha, phi, pc, mc, mb, ma):\n",
    "    beta_val = get_beta(alpha, mc, mb, ma)\n",
    "    beta = np.random.choice(beta_val)\n",
    "    pc_par, pc_perp_1, pc_perp_2 = get_unit_vectors(pc)\n",
    "    vhat = np.cos(phi) * pc_perp_1 + np.sin(phi) * pc_perp_2\n",
    "    pa_hat = np.cos(alpha) * pc_par + np.sin(alpha) * vhat\n",
    "    pb_hat = np.cos(beta) * pc_par - np.sin(beta) * vhat\n",
    "    pb_mag = np.linalg.norm(pc)/(np.sin(beta)/np.tan(alpha) + np.cos(beta))\n",
    "    pb = pb_hat * pb_mag\n",
    "    pa_mag = pb_mag * np.sin(beta)/np.sin(alpha)\n",
    "    pa = pa_hat * pa_mag\n",
    "    return pa, pb"
   ]
  },
  {
   "cell_type": "code",
   "execution_count": 44,
   "metadata": {
    "collapsed": true
   },
   "outputs": [],
   "source": [
    "def get_va_vb(pc, mc, mb, ma):\n",
    "    alpha = get_random_angle(np.pi)\n",
    "    phi = get_random_angle(2*np.pi)\n",
    "    pa, pb = get_pa_pb(alpha, phi, pc, mc, mb, ma)\n",
    "    va = pa/ma\n",
    "    vb = pb/mb\n",
    "    return va, vb"
   ]
  },
  {
   "cell_type": "code",
   "execution_count": 45,
   "metadata": {
    "collapsed": false
   },
   "outputs": [
    {
     "name": "stdout",
     "output_type": "stream",
     "text": [
      "det: -9.0\n",
      "[1.0, 1.0, 1.0]\n",
      "[ 0.57735027  0.57735027  0.57735027]\n",
      "[ 1.  0.  0.]\n"
     ]
    },
    {
     "name": "stderr",
     "output_type": "stream",
     "text": [
      "/home/eugene/anaconda23/envs/py3/lib/python3.5/site-packages/ipykernel/__main__.py:10: RuntimeWarning: invalid value encountered in sqrt\n",
      "/home/eugene/anaconda23/envs/py3/lib/python3.5/site-packages/ipykernel/__main__.py:11: RuntimeWarning: invalid value encountered in sqrt\n"
     ]
    },
    {
     "data": {
      "text/plain": [
       "(array([ nan,  nan,  nan]), array([ nan,  nan,  nan]))"
      ]
     },
     "execution_count": 45,
     "metadata": {},
     "output_type": "execute_result"
    }
   ],
   "source": [
    "get_va_vb([1.0, 1.0, 1.0], 3.0, 2.0, 1.0)"
   ]
  },
  {
   "cell_type": "code",
   "execution_count": null,
   "metadata": {
    "collapsed": true
   },
   "outputs": [],
   "source": []
  },
  {
   "cell_type": "code",
   "execution_count": null,
   "metadata": {
    "collapsed": true
   },
   "outputs": [],
   "source": []
  },
  {
   "cell_type": "code",
   "execution_count": null,
   "metadata": {
    "collapsed": true
   },
   "outputs": [],
   "source": []
  }
 ],
 "metadata": {
  "kernelspec": {
   "display_name": "Python 3",
   "language": "python",
   "name": "python3"
  },
  "language_info": {
   "codemirror_mode": {
    "name": "ipython",
    "version": 3
   },
   "file_extension": ".py",
   "mimetype": "text/x-python",
   "name": "python",
   "nbconvert_exporter": "python",
   "pygments_lexer": "ipython3",
   "version": "3.5.1"
  }
 },
 "nbformat": 4,
 "nbformat_minor": 0
}
